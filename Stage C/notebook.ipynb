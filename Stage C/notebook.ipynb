{
 "cells": [
  {
   "cell_type": "markdown",
   "id": "3044994a",
   "metadata": {},
   "source": [
    "# Machine Learning Classification"
   ]
  },
  {
   "cell_type": "code",
   "execution_count": 2,
   "id": "5135b5e8",
   "metadata": {},
   "outputs": [],
   "source": [
    "import zipfile\n",
    "\n",
    "def extract_zip(zip_file, output_dir):\n",
    "  \"\"\"\n",
    "  Extracts a zip file to a specified directory.\n",
    "\n",
    "  Args:\n",
    "    zip_file: The path to the zip file to extract.\n",
    "    output_dir: The path to the directory where the zip file should be extracted.\n",
    "  \"\"\"\n",
    "\n",
    "  with zipfile.ZipFile(zip_file, 'r') as zip_ref:\n",
    "    zip_ref.extractall(output_dir)\n",
    "\n",
    "if __name__ == \"__main__\":\n",
    "  zip_file = 'electrical+grid+stability+simulated+data.zip'\n",
    "  output_dir = 'dataset'\n",
    "  extract_zip(zip_file, output_dir)"
   ]
  },
  {
   "cell_type": "code",
   "execution_count": 23,
   "id": "7d21603e",
   "metadata": {},
   "outputs": [],
   "source": [
    "# data analysis\n",
    "import pandas as pd\n",
    "\n",
    "# model training\n",
    "from sklearn.ensemble import RandomForestClassifier\n",
    "import xgboost as xgb\n",
    "from lightgbm import LGBMClassifier\n",
    "\n",
    "# data preprocessing\n",
    "from sklearn.model_selection import train_test_split\n",
    "from sklearn.preprocessing import StandardScaler\n",
    "\n",
    "# model evaluation\n",
    "from sklearn.metrics import accuracy_score, recall_score, precision_score, f1_score, confusion_matrix"
   ]
  },
  {
   "cell_type": "code",
   "execution_count": 24,
   "id": "e167ed46",
   "metadata": {},
   "outputs": [
    {
     "data": {
      "text/html": [
       "<div>\n",
       "<style scoped>\n",
       "    .dataframe tbody tr th:only-of-type {\n",
       "        vertical-align: middle;\n",
       "    }\n",
       "\n",
       "    .dataframe tbody tr th {\n",
       "        vertical-align: top;\n",
       "    }\n",
       "\n",
       "    .dataframe thead th {\n",
       "        text-align: right;\n",
       "    }\n",
       "</style>\n",
       "<table border=\"1\" class=\"dataframe\">\n",
       "  <thead>\n",
       "    <tr style=\"text-align: right;\">\n",
       "      <th></th>\n",
       "      <th>tau1</th>\n",
       "      <th>tau2</th>\n",
       "      <th>tau3</th>\n",
       "      <th>tau4</th>\n",
       "      <th>p1</th>\n",
       "      <th>p2</th>\n",
       "      <th>p3</th>\n",
       "      <th>p4</th>\n",
       "      <th>g1</th>\n",
       "      <th>g2</th>\n",
       "      <th>g3</th>\n",
       "      <th>g4</th>\n",
       "      <th>stab</th>\n",
       "      <th>stabf</th>\n",
       "    </tr>\n",
       "  </thead>\n",
       "  <tbody>\n",
       "    <tr>\n",
       "      <th>0</th>\n",
       "      <td>2.959060</td>\n",
       "      <td>3.079885</td>\n",
       "      <td>8.381025</td>\n",
       "      <td>9.780754</td>\n",
       "      <td>3.763085</td>\n",
       "      <td>-0.782604</td>\n",
       "      <td>-1.257395</td>\n",
       "      <td>-1.723086</td>\n",
       "      <td>0.650456</td>\n",
       "      <td>0.859578</td>\n",
       "      <td>0.887445</td>\n",
       "      <td>0.958034</td>\n",
       "      <td>0.055347</td>\n",
       "      <td>unstable</td>\n",
       "    </tr>\n",
       "    <tr>\n",
       "      <th>1</th>\n",
       "      <td>9.304097</td>\n",
       "      <td>4.902524</td>\n",
       "      <td>3.047541</td>\n",
       "      <td>1.369357</td>\n",
       "      <td>5.067812</td>\n",
       "      <td>-1.940058</td>\n",
       "      <td>-1.872742</td>\n",
       "      <td>-1.255012</td>\n",
       "      <td>0.413441</td>\n",
       "      <td>0.862414</td>\n",
       "      <td>0.562139</td>\n",
       "      <td>0.781760</td>\n",
       "      <td>-0.005957</td>\n",
       "      <td>stable</td>\n",
       "    </tr>\n",
       "    <tr>\n",
       "      <th>2</th>\n",
       "      <td>8.971707</td>\n",
       "      <td>8.848428</td>\n",
       "      <td>3.046479</td>\n",
       "      <td>1.214518</td>\n",
       "      <td>3.405158</td>\n",
       "      <td>-1.207456</td>\n",
       "      <td>-1.277210</td>\n",
       "      <td>-0.920492</td>\n",
       "      <td>0.163041</td>\n",
       "      <td>0.766689</td>\n",
       "      <td>0.839444</td>\n",
       "      <td>0.109853</td>\n",
       "      <td>0.003471</td>\n",
       "      <td>unstable</td>\n",
       "    </tr>\n",
       "    <tr>\n",
       "      <th>3</th>\n",
       "      <td>0.716415</td>\n",
       "      <td>7.669600</td>\n",
       "      <td>4.486641</td>\n",
       "      <td>2.340563</td>\n",
       "      <td>3.963791</td>\n",
       "      <td>-1.027473</td>\n",
       "      <td>-1.938944</td>\n",
       "      <td>-0.997374</td>\n",
       "      <td>0.446209</td>\n",
       "      <td>0.976744</td>\n",
       "      <td>0.929381</td>\n",
       "      <td>0.362718</td>\n",
       "      <td>0.028871</td>\n",
       "      <td>unstable</td>\n",
       "    </tr>\n",
       "    <tr>\n",
       "      <th>4</th>\n",
       "      <td>3.134112</td>\n",
       "      <td>7.608772</td>\n",
       "      <td>4.943759</td>\n",
       "      <td>9.857573</td>\n",
       "      <td>3.525811</td>\n",
       "      <td>-1.125531</td>\n",
       "      <td>-1.845975</td>\n",
       "      <td>-0.554305</td>\n",
       "      <td>0.797110</td>\n",
       "      <td>0.455450</td>\n",
       "      <td>0.656947</td>\n",
       "      <td>0.820923</td>\n",
       "      <td>0.049860</td>\n",
       "      <td>unstable</td>\n",
       "    </tr>\n",
       "  </tbody>\n",
       "</table>\n",
       "</div>"
      ],
      "text/plain": [
       "       tau1      tau2      tau3      tau4        p1        p2        p3  \\\n",
       "0  2.959060  3.079885  8.381025  9.780754  3.763085 -0.782604 -1.257395   \n",
       "1  9.304097  4.902524  3.047541  1.369357  5.067812 -1.940058 -1.872742   \n",
       "2  8.971707  8.848428  3.046479  1.214518  3.405158 -1.207456 -1.277210   \n",
       "3  0.716415  7.669600  4.486641  2.340563  3.963791 -1.027473 -1.938944   \n",
       "4  3.134112  7.608772  4.943759  9.857573  3.525811 -1.125531 -1.845975   \n",
       "\n",
       "         p4        g1        g2        g3        g4      stab     stabf  \n",
       "0 -1.723086  0.650456  0.859578  0.887445  0.958034  0.055347  unstable  \n",
       "1 -1.255012  0.413441  0.862414  0.562139  0.781760 -0.005957    stable  \n",
       "2 -0.920492  0.163041  0.766689  0.839444  0.109853  0.003471  unstable  \n",
       "3 -0.997374  0.446209  0.976744  0.929381  0.362718  0.028871  unstable  \n",
       "4 -0.554305  0.797110  0.455450  0.656947  0.820923  0.049860  unstable  "
      ]
     },
     "execution_count": 24,
     "metadata": {},
     "output_type": "execute_result"
    }
   ],
   "source": [
    "df = pd.read_csv('dataset/Data_for_UCI_named.csv')\n",
    "df.head()"
   ]
  },
  {
   "cell_type": "markdown",
   "id": "3e5c8a66",
   "metadata": {},
   "source": [
    "**Data Preprocessing**\n",
    "\n",
    "Building Training and Test sets and Scaling the dataset"
   ]
  },
  {
   "cell_type": "code",
   "execution_count": 33,
   "id": "e037ddf8",
   "metadata": {},
   "outputs": [],
   "source": [
    "X = df.drop(['stab', 'stabf'], axis = 1)\n",
    "y = df['stabf']\n",
    "\n",
    "# splitting the data to training and testing set\n",
    "X_train, X_test, y_train, y_test = train_test_split(X, y, test_size=0.2, random_state=1)\n",
    "\n",
    "scaler = StandardScaler()\n",
    "\n",
    "# fit and transform the training set\n",
    "X_train = pd.DataFrame(scaler.fit_transform(X_train), columns=X_train.columns)\n",
    "\n",
    "# transform the test set\n",
    "X_test = pd.DataFrame(sc.transform(X_test), columns=X_test.columns)"
   ]
  },
  {
   "cell_type": "markdown",
   "id": "1ac2a19e",
   "metadata": {},
   "source": [
    "**Question 1**\n",
    "\n",
    "According to a use-case, in a certain ML task, a false positive is six times costlier than a false negative. You, as a Data Scientist, trained 4 models, to solve the use case.\n",
    "\n",
    "Keep the following evaluation criteria in mind:\n",
    "\n",
    "1) Must have a recall rate of at least 80% \n",
    "\n",
    "2) Must have a false positive rate of 8% or less \n",
    "\n",
    "3) Must minimize business costs\n",
    "\n",
    " After creating each binary classification model, you generated the corresponding confusion matrix. Which confusion matrix represents the model that satisfies the requirements? \n",
    " \n",
    " Answer: TN = 96%, FP = 4%, FN = 10%, TP = 90% "
   ]
  },
  {
   "cell_type": "markdown",
   "id": "e982628c",
   "metadata": {},
   "source": [
    "**Question 2**\n",
    "\n",
    "You are working on a spam classification system using regularized logistic regression. “Spam” is a positive class (y = 1) and “not spam” is the negative class (y = 0). You have trained your classifier and there are n = 2000 examples in the test set. The confusion matrix of predicted class vs. actual class is:\n",
    "\n",
    "What is the F1 score of this classifier?\n",
    "\n",
    "Answer: 0.2635"
   ]
  },
  {
   "cell_type": "code",
   "execution_count": 41,
   "id": "e5ac50b2",
   "metadata": {},
   "outputs": [
    {
     "data": {
      "text/plain": [
       "0.26356589147286824"
      ]
     },
     "execution_count": 41,
     "metadata": {},
     "output_type": "execute_result"
    }
   ],
   "source": [
    "precision = 255 / (255 + 1380)\n",
    "recall = 255 / (255 + 45)\n",
    "\n",
    "f1_score_ = 2 / ((1 / precision) + (1 / recall))\n",
    "f1_score_"
   ]
  },
  {
   "cell_type": "markdown",
   "id": "a8d4aa7c",
   "metadata": {},
   "source": [
    "**Question 3**\n",
    "\n",
    "Jack is working on classification modelling. While evaluating the model, he saw that the difference between test and training error is a big positive number with a low training error. Which of the following, is he currently facing?\n",
    "\n",
    "Answer: Jack is currently facing overfitting. Overfitting is a problem that occurs when a model learns the training data too well and is unable to generalize to new data. This can happen when the model is too complex or when the training data is not representative of the real world."
   ]
  },
  {
   "cell_type": "markdown",
   "id": "7593a89a",
   "metadata": {},
   "source": [
    "**Question 4**\n",
    "\n",
    "Which of the following metric is generally NOT useful for a classification problem?\n",
    "\n",
    "Answer: RMSE Value"
   ]
  },
  {
   "cell_type": "markdown",
   "id": "81b6c309",
   "metadata": {},
   "source": [
    "**Question 5**\n",
    "\n",
    "Why do we use weak learners in boosting, instead if strong learners?\n",
    "\n",
    "Answer: To make the algorithm stronger. Using weak learners in boosting makes the algorithm stronger. This is because the weak learners are able to learn from each other and improve their predictions over time."
   ]
  },
  {
   "cell_type": "markdown",
   "id": "b207be0a",
   "metadata": {},
   "source": [
    "**Question 6**\n",
    "\n",
    "You are building a classifier and the accuracy is poor on both the training and test sets. Which would you use to try to improve the performance?\n",
    "\n",
    "Answer: RMSE Value"
   ]
  },
  {
   "cell_type": "markdown",
   "id": "b944ef23",
   "metadata": {},
   "source": [
    "**Question 7**\n",
    "\n",
    "You are building a classifier and the accuracy is poor on both the training and test sets. Which would you use to try to improve the performance?\n",
    "\n",
    "Answer: Bagging"
   ]
  },
  {
   "cell_type": "markdown",
   "id": "7f5dba6a",
   "metadata": {},
   "source": [
    "**Question 8**\n",
    "\n",
    "A classifier predicts if insurance claims are fraudulent or not. The cost of paying a fraudulent claim is higher than the cost of investigating a claim that is suspected to be fraudulent. Which metric should we use to evaluate this classifier?\n",
    "\n",
    "Answer: Recall"
   ]
  },
  {
   "cell_type": "markdown",
   "id": "9560557f",
   "metadata": {},
   "source": [
    "**Question 9**\n",
    "\n",
    "Which of the following metric is generally NOT useful for a classification problem?\n",
    "\n",
    "Answer: RMSE Value"
   ]
  },
  {
   "cell_type": "markdown",
   "id": "7a35a5e9",
   "metadata": {},
   "source": [
    "**Question 10**\n",
    "\n",
    "![Image title](roc.jpg)\n",
    "The ROC curve above was generated from a classification algorithm. What can we say about this classifier?\n",
    "\n",
    "Answer: The model has no discrimination capacity to differentiate between the positive and the negative class"
   ]
  },
  {
   "cell_type": "markdown",
   "id": "488b0bf9",
   "metadata": {},
   "source": [
    "**Question 11**\n",
    "\n",
    "![Image title](conf.png)\n",
    "A random forest classifier was used to classify handwritten digits 0-9 into the numbers they were intended to represent. The confusion matrix below was generated from the results. Based on the matrix, which number was predicted with the least accuracy?\n",
    "\n",
    "Answer: 8"
   ]
  },
  {
   "cell_type": "markdown",
   "id": "caaaca70",
   "metadata": {},
   "source": [
    "**Question 12**\n",
    "\n",
    "A medical company is building a model to predict the occurrence of thyroid cancer. The training data contains 900 negative instances (people who don't have cancer) and 100 positive instances. The resulting model has 90% accuracy, but extremely poor recall. What steps can be used to improve the model's performance? (SELECT TWO)\n",
    "\n",
    "Answer: <br>\n",
    "- Use Bagging method\n",
    "- Generate synthetic samples/data using SMOTE"
   ]
  },
  {
   "cell_type": "markdown",
   "id": "697a6483",
   "metadata": {},
   "source": [
    "**Question 13**\n",
    "\n",
    "You are developing a machine learning classification algorithm that categorizes handwritten digits 0-9 into the numbers they represent. How should you pre-process the label data?\n",
    "\n",
    "Answer: One-hot encoding"
   ]
  },
  {
   "cell_type": "markdown",
   "id": "7fa38e8b",
   "metadata": {},
   "source": [
    "**Question 14**\n",
    "\n",
    "What is the entropy of the target variable if its actual values are given as:\n",
    "\n",
    "[1,0,1,1,0,1,0]\n",
    "\n",
    "Answer: <br>\n",
    "Formula of entropy: entropy = -sum(p(x)*log2(p(x))) <br><br>\n",
    "where p(x) is the probability of the target variable taking on value x.\n",
    "\n",
    "In this case, the target variable has 2 possible values: 0 and 1. The probability of the target variable taking on value 0 is 3/7, and the probability of the target variable taking on value 1 is 4/7. Therefore, the entropy of the target variable is: <br><br>\n",
    "entropy = -(3/7 * log2(3/7) + 4/7 * log2(4/7))"
   ]
  },
  {
   "cell_type": "markdown",
   "id": "aa3c284d",
   "metadata": {},
   "source": [
    "**Question 15**\n",
    "\n",
    "Which of these is not a good metric for evaluating classification algorithms for data with imbalanced class problems?\n",
    "\n",
    "Answer: Accuracy"
   ]
  },
  {
   "cell_type": "markdown",
   "id": "75becdfa",
   "metadata": {},
   "source": [
    "**Question 16**\n",
    "\n",
    "What is the accuracy on the test set using the random forest classifier? In 4 decimal places.\n",
    "\n",
    "Answer: 0.9291"
   ]
  },
  {
   "cell_type": "code",
   "execution_count": 35,
   "id": "e9ef9c88",
   "metadata": {},
   "outputs": [
    {
     "name": "stdout",
     "output_type": "stream",
     "text": [
      "Accuracy score of the Random Forest Classifier is 0.929\n"
     ]
    }
   ],
   "source": [
    "rf = RandomForestClassifier(random_state=1)\n",
    "\n",
    "rf.fit(X_train, y_train)\n",
    "y_pred = rf.predict(X_test)\n",
    "acc_score = round(accuracy_score(y_test, y_pred), 4)\n",
    "print(f'Accuracy score of the Random Forest Classifier is {acc_score}')"
   ]
  },
  {
   "cell_type": "markdown",
   "id": "17dd7b5f",
   "metadata": {},
   "source": [
    "**Question 17**\n",
    "\n",
    "What is the accuracy on the test set using the XGboost classifier? In 4 decimal places.\n",
    "\n",
    "Answer: 0.9455"
   ]
  },
  {
   "cell_type": "code",
   "execution_count": 40,
   "id": "aae9cafa",
   "metadata": {},
   "outputs": [
    {
     "name": "stdout",
     "output_type": "stream",
     "text": [
      "[23:51:07] WARNING: C:\\Windows\\Temp\\abs_557yfx631l\\croots\\recipe\\xgboost-split_1659548953302\\work\\src\\learner.cc:1115: Starting in XGBoost 1.3.0, the default evaluation metric used with the objective 'binary:logistic' was changed from 'error' to 'logloss'. Explicitly set eval_metric if you'd like to restore the old behavior.\n",
      "Accuracy score of the XGBOOST Classifier is 0.9455\n"
     ]
    }
   ],
   "source": [
    "import warnings;warnings.filterwarnings('ignore')\n",
    "\n",
    "xgb_model = xgb.XGBClassifier(random_state=1)\n",
    "\n",
    "xgb_model.fit(X_train, y_train)\n",
    "y_pred = xgb_model.predict(X_test)\n",
    "acc_score = round(accuracy_score(y_test, y_pred), 4)\n",
    "print(f'Accuracy score of the XGBOOST Classifier is {acc_score}')"
   ]
  },
  {
   "cell_type": "markdown",
   "id": "6e4c95d3",
   "metadata": {},
   "source": [
    "**Question 18**\n",
    "\n",
    "What is the accuracy on the test set using the LGBM classifier? In 4 decimal places.\n",
    "\n",
    "Answer: 0.9375"
   ]
  },
  {
   "cell_type": "code",
   "execution_count": 44,
   "id": "0936ce3d",
   "metadata": {},
   "outputs": [
    {
     "name": "stdout",
     "output_type": "stream",
     "text": [
      "Accuracy score of the LGBM Classifier is 0.9395\n"
     ]
    }
   ],
   "source": [
    "lgbm_clf = LGBMClassifier(random_state=1)\n",
    "\n",
    "lgbm_clf.fit(X_train, y_train)\n",
    "lgbm_pred = lgbm_clf.predict(X_test)\n",
    "acc_score = round(accuracy_score(y_test, lgbm_pred), 4)\n",
    "print(f'Accuracy score of the LGBM Classifier is {acc_score}')"
   ]
  },
  {
   "cell_type": "code",
   "execution_count": null,
   "id": "7adc80e6",
   "metadata": {},
   "outputs": [],
   "source": []
  }
 ],
 "metadata": {
  "kernelspec": {
   "display_name": "Python 3 (ipykernel)",
   "language": "python",
   "name": "python3"
  },
  "language_info": {
   "codemirror_mode": {
    "name": "ipython",
    "version": 3
   },
   "file_extension": ".py",
   "mimetype": "text/x-python",
   "name": "python",
   "nbconvert_exporter": "python",
   "pygments_lexer": "ipython3",
   "version": "3.9.12"
  }
 },
 "nbformat": 4,
 "nbformat_minor": 5
}
